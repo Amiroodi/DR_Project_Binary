{
 "cells": [
  {
   "cell_type": "code",
   "execution_count": 4,
   "metadata": {},
   "outputs": [],
   "source": [
    "import torch, torchvision\n",
    "from torchinfo import summary\n"
   ]
  },
  {
   "cell_type": "code",
   "execution_count": 3,
   "metadata": {},
   "outputs": [
    {
     "name": "stderr",
     "output_type": "stream",
     "text": [
      "Downloading: \"https://download.pytorch.org/models/efficientnet_b4_rwightman-23ab8bcd.pth\" to C:\\Users\\Amiroodi/.cache\\torch\\hub\\checkpoints\\efficientnet_b4_rwightman-23ab8bcd.pth\n",
      "100%|██████████| 74.5M/74.5M [01:05<00:00, 1.19MB/s]\n"
     ]
    }
   ],
   "source": [
    "weights = torchvision.models.EfficientNet_B4_Weights.DEFAULT\n",
    "efficientNet = torchvision.models.efficientnet_b4(weights=weights)"
   ]
  },
  {
   "cell_type": "code",
   "execution_count": 7,
   "metadata": {},
   "outputs": [
    {
     "data": {
      "text/plain": [
       "============================================================================================================================================\n",
       "Layer (type (var_name))                                      Input Shape          Output Shape         Param #              Trainable\n",
       "============================================================================================================================================\n",
       "EfficientNet (EfficientNet)                                  [32, 3, 380, 380]    [32, 1000]           --                   True\n",
       "├─Sequential (features)                                      [32, 3, 380, 380]    [32, 1792, 12, 12]   --                   True\n",
       "│    └─Conv2dNormActivation (0)                              [32, 3, 380, 380]    [32, 48, 190, 190]   --                   True\n",
       "│    │    └─Conv2d (0)                                       [32, 3, 380, 380]    [32, 48, 190, 190]   1,296                True\n",
       "│    │    └─BatchNorm2d (1)                                  [32, 48, 190, 190]   [32, 48, 190, 190]   96                   True\n",
       "│    │    └─SiLU (2)                                         [32, 48, 190, 190]   [32, 48, 190, 190]   --                   --\n",
       "│    └─Sequential (1)                                        [32, 48, 190, 190]   [32, 24, 190, 190]   --                   True\n",
       "│    │    └─MBConv (0)                                       [32, 48, 190, 190]   [32, 24, 190, 190]   2,940                True\n",
       "│    │    └─MBConv (1)                                       [32, 24, 190, 190]   [32, 24, 190, 190]   1,206                True\n",
       "│    └─Sequential (2)                                        [32, 24, 190, 190]   [32, 32, 95, 95]     --                   True\n",
       "│    │    └─MBConv (0)                                       [32, 24, 190, 190]   [32, 32, 95, 95]     11,878               True\n",
       "│    │    └─MBConv (1)                                       [32, 32, 95, 95]     [32, 32, 95, 95]     18,120               True\n",
       "│    │    └─MBConv (2)                                       [32, 32, 95, 95]     [32, 32, 95, 95]     18,120               True\n",
       "│    │    └─MBConv (3)                                       [32, 32, 95, 95]     [32, 32, 95, 95]     18,120               True\n",
       "│    └─Sequential (3)                                        [32, 32, 95, 95]     [32, 56, 48, 48]     --                   True\n",
       "│    │    └─MBConv (0)                                       [32, 32, 95, 95]     [32, 56, 48, 48]     25,848               True\n",
       "│    │    └─MBConv (1)                                       [32, 56, 48, 48]     [32, 56, 48, 48]     57,246               True\n",
       "│    │    └─MBConv (2)                                       [32, 56, 48, 48]     [32, 56, 48, 48]     57,246               True\n",
       "│    │    └─MBConv (3)                                       [32, 56, 48, 48]     [32, 56, 48, 48]     57,246               True\n",
       "│    └─Sequential (4)                                        [32, 56, 48, 48]     [32, 112, 24, 24]    --                   True\n",
       "│    │    └─MBConv (0)                                       [32, 56, 48, 48]     [32, 112, 24, 24]    70,798               True\n",
       "│    │    └─MBConv (1)                                       [32, 112, 24, 24]    [32, 112, 24, 24]    197,820              True\n",
       "│    │    └─MBConv (2)                                       [32, 112, 24, 24]    [32, 112, 24, 24]    197,820              True\n",
       "│    │    └─MBConv (3)                                       [32, 112, 24, 24]    [32, 112, 24, 24]    197,820              True\n",
       "│    │    └─MBConv (4)                                       [32, 112, 24, 24]    [32, 112, 24, 24]    197,820              True\n",
       "│    │    └─MBConv (5)                                       [32, 112, 24, 24]    [32, 112, 24, 24]    197,820              True\n",
       "│    └─Sequential (5)                                        [32, 112, 24, 24]    [32, 160, 24, 24]    --                   True\n",
       "│    │    └─MBConv (0)                                       [32, 112, 24, 24]    [32, 160, 24, 24]    240,924              True\n",
       "│    │    └─MBConv (1)                                       [32, 160, 24, 24]    [32, 160, 24, 24]    413,160              True\n",
       "│    │    └─MBConv (2)                                       [32, 160, 24, 24]    [32, 160, 24, 24]    413,160              True\n",
       "│    │    └─MBConv (3)                                       [32, 160, 24, 24]    [32, 160, 24, 24]    413,160              True\n",
       "│    │    └─MBConv (4)                                       [32, 160, 24, 24]    [32, 160, 24, 24]    413,160              True\n",
       "│    │    └─MBConv (5)                                       [32, 160, 24, 24]    [32, 160, 24, 24]    413,160              True\n",
       "│    └─Sequential (6)                                        [32, 160, 24, 24]    [32, 272, 12, 12]    --                   True\n",
       "│    │    └─MBConv (0)                                       [32, 160, 24, 24]    [32, 272, 12, 12]    520,904              True\n",
       "│    │    └─MBConv (1)                                       [32, 272, 12, 12]    [32, 272, 12, 12]    1,159,332            True\n",
       "│    │    └─MBConv (2)                                       [32, 272, 12, 12]    [32, 272, 12, 12]    1,159,332            True\n",
       "│    │    └─MBConv (3)                                       [32, 272, 12, 12]    [32, 272, 12, 12]    1,159,332            True\n",
       "│    │    └─MBConv (4)                                       [32, 272, 12, 12]    [32, 272, 12, 12]    1,159,332            True\n",
       "│    │    └─MBConv (5)                                       [32, 272, 12, 12]    [32, 272, 12, 12]    1,159,332            True\n",
       "│    │    └─MBConv (6)                                       [32, 272, 12, 12]    [32, 272, 12, 12]    1,159,332            True\n",
       "│    │    └─MBConv (7)                                       [32, 272, 12, 12]    [32, 272, 12, 12]    1,159,332            True\n",
       "│    └─Sequential (7)                                        [32, 272, 12, 12]    [32, 448, 12, 12]    --                   True\n",
       "│    │    └─MBConv (0)                                       [32, 272, 12, 12]    [32, 448, 12, 12]    1,420,804            True\n",
       "│    │    └─MBConv (1)                                       [32, 448, 12, 12]    [32, 448, 12, 12]    3,049,200            True\n",
       "│    └─Conv2dNormActivation (8)                              [32, 448, 12, 12]    [32, 1792, 12, 12]   --                   True\n",
       "│    │    └─Conv2d (0)                                       [32, 448, 12, 12]    [32, 1792, 12, 12]   802,816              True\n",
       "│    │    └─BatchNorm2d (1)                                  [32, 1792, 12, 12]   [32, 1792, 12, 12]   3,584                True\n",
       "│    │    └─SiLU (2)                                         [32, 1792, 12, 12]   [32, 1792, 12, 12]   --                   --\n",
       "├─AdaptiveAvgPool2d (avgpool)                                [32, 1792, 12, 12]   [32, 1792, 1, 1]     --                   --\n",
       "├─Sequential (classifier)                                    [32, 1792]           [32, 1000]           --                   True\n",
       "│    └─Dropout (0)                                           [32, 1792]           [32, 1792]           --                   --\n",
       "│    └─Linear (1)                                            [32, 1792]           [32, 1000]           1,793,000            True\n",
       "============================================================================================================================================\n",
       "Total params: 19,341,616\n",
       "Trainable params: 19,341,616\n",
       "Non-trainable params: 0\n",
       "Total mult-adds (Units.GIGABYTES): 140.61\n",
       "============================================================================================================================================\n",
       "Input size (MB): 55.45\n",
       "Forward/backward pass size (MB): 25330.69\n",
       "Params size (MB): 77.37\n",
       "Estimated Total Size (MB): 25463.51\n",
       "============================================================================================================================================"
      ]
     },
     "execution_count": 7,
     "metadata": {},
     "output_type": "execute_result"
    }
   ],
   "source": [
    "crop_size = 380\n",
    "# Print a summary using torchinfo (uncomment for actual output)\n",
    "torch.manual_seed(33)\n",
    "summary(\n",
    "model=efficientNet, \n",
    "input_size=(32, 3, crop_size, crop_size), # make sure this is \"input_size\", not \"input_shape\"\n",
    "col_names=[\"input_size\", \"output_size\", \"num_params\", \"trainable\"],\n",
    "col_width=20,\n",
    "row_settings=[\"var_names\"]) "
   ]
  },
  {
   "cell_type": "code",
   "execution_count": 12,
   "metadata": {},
   "outputs": [
    {
     "data": {
      "text/plain": [
       "tensor([[ 1, -2,  3,  1,  2,  3],\n",
       "        [-1,  1,  1, -4, -4,  5]])"
      ]
     },
     "execution_count": 12,
     "metadata": {},
     "output_type": "execute_result"
    }
   ],
   "source": [
    "x1 = torch.tensor([[1, -2, 3], [-1, 1, 1]])\n",
    "x2 = torch.tensor([[1, 2, 3], [-4, -4, 5]])\n",
    "x = torch.concat([x1, x2], dim=1)\n",
    "x"
   ]
  },
  {
   "cell_type": "code",
   "execution_count": 13,
   "metadata": {},
   "outputs": [
    {
     "data": {
      "text/plain": [
       "tensor([[1, 0, 3, 1, 2, 3],\n",
       "        [0, 1, 1, 0, 0, 5]])"
      ]
     },
     "execution_count": 13,
     "metadata": {},
     "output_type": "execute_result"
    }
   ],
   "source": [
    "torch.relu(x)"
   ]
  },
  {
   "cell_type": "code",
   "execution_count": 7,
   "metadata": {},
   "outputs": [],
   "source": [
    "import torch, torchvision\n",
    "from torchinfo import summary\n",
    "model = torchvision.models.densenet121(weights='DEFAULT')\n",
    "model.classifier = torch.nn.Linear(1024, 5)"
   ]
  },
  {
   "cell_type": "code",
   "execution_count": 8,
   "metadata": {},
   "outputs": [
    {
     "data": {
      "text/plain": [
       "=============================================================================================================================\n",
       "Layer (type (var_name))                       Input Shape          Output Shape         Param #              Trainable\n",
       "=============================================================================================================================\n",
       "DenseNet (DenseNet)                           [32, 3, 224, 224]    [32, 5]              --                   True\n",
       "├─Sequential (features)                       [32, 3, 224, 224]    [32, 1024, 7, 7]     --                   True\n",
       "│    └─Conv2d (conv0)                         [32, 3, 224, 224]    [32, 64, 112, 112]   9,408                True\n",
       "│    └─BatchNorm2d (norm0)                    [32, 64, 112, 112]   [32, 64, 112, 112]   128                  True\n",
       "│    └─ReLU (relu0)                           [32, 64, 112, 112]   [32, 64, 112, 112]   --                   --\n",
       "│    └─MaxPool2d (pool0)                      [32, 64, 112, 112]   [32, 64, 56, 56]     --                   --\n",
       "│    └─_DenseBlock (denseblock1)              [32, 64, 56, 56]     [32, 256, 56, 56]    --                   True\n",
       "│    │    └─_DenseLayer (denselayer1)         [32, 64, 56, 56]     [32, 32, 56, 56]     45,440               True\n",
       "│    │    └─_DenseLayer (denselayer2)         [32, 64, 56, 56]     [32, 32, 56, 56]     49,600               True\n",
       "│    │    └─_DenseLayer (denselayer3)         [32, 64, 56, 56]     [32, 32, 56, 56]     53,760               True\n",
       "│    │    └─_DenseLayer (denselayer4)         [32, 64, 56, 56]     [32, 32, 56, 56]     57,920               True\n",
       "│    │    └─_DenseLayer (denselayer5)         [32, 64, 56, 56]     [32, 32, 56, 56]     62,080               True\n",
       "│    │    └─_DenseLayer (denselayer6)         [32, 64, 56, 56]     [32, 32, 56, 56]     66,240               True\n",
       "│    └─_Transition (transition1)              [32, 256, 56, 56]    [32, 128, 28, 28]    --                   True\n",
       "│    │    └─BatchNorm2d (norm)                [32, 256, 56, 56]    [32, 256, 56, 56]    512                  True\n",
       "│    │    └─ReLU (relu)                       [32, 256, 56, 56]    [32, 256, 56, 56]    --                   --\n",
       "│    │    └─Conv2d (conv)                     [32, 256, 56, 56]    [32, 128, 56, 56]    32,768               True\n",
       "│    │    └─AvgPool2d (pool)                  [32, 128, 56, 56]    [32, 128, 28, 28]    --                   --\n",
       "│    └─_DenseBlock (denseblock2)              [32, 128, 28, 28]    [32, 512, 28, 28]    --                   True\n",
       "│    │    └─_DenseLayer (denselayer1)         [32, 128, 28, 28]    [32, 32, 28, 28]     53,760               True\n",
       "│    │    └─_DenseLayer (denselayer2)         [32, 128, 28, 28]    [32, 32, 28, 28]     57,920               True\n",
       "│    │    └─_DenseLayer (denselayer3)         [32, 128, 28, 28]    [32, 32, 28, 28]     62,080               True\n",
       "│    │    └─_DenseLayer (denselayer4)         [32, 128, 28, 28]    [32, 32, 28, 28]     66,240               True\n",
       "│    │    └─_DenseLayer (denselayer5)         [32, 128, 28, 28]    [32, 32, 28, 28]     70,400               True\n",
       "│    │    └─_DenseLayer (denselayer6)         [32, 128, 28, 28]    [32, 32, 28, 28]     74,560               True\n",
       "│    │    └─_DenseLayer (denselayer7)         [32, 128, 28, 28]    [32, 32, 28, 28]     78,720               True\n",
       "│    │    └─_DenseLayer (denselayer8)         [32, 128, 28, 28]    [32, 32, 28, 28]     82,880               True\n",
       "│    │    └─_DenseLayer (denselayer9)         [32, 128, 28, 28]    [32, 32, 28, 28]     87,040               True\n",
       "│    │    └─_DenseLayer (denselayer10)        [32, 128, 28, 28]    [32, 32, 28, 28]     91,200               True\n",
       "│    │    └─_DenseLayer (denselayer11)        [32, 128, 28, 28]    [32, 32, 28, 28]     95,360               True\n",
       "│    │    └─_DenseLayer (denselayer12)        [32, 128, 28, 28]    [32, 32, 28, 28]     99,520               True\n",
       "│    └─_Transition (transition2)              [32, 512, 28, 28]    [32, 256, 14, 14]    --                   True\n",
       "│    │    └─BatchNorm2d (norm)                [32, 512, 28, 28]    [32, 512, 28, 28]    1,024                True\n",
       "│    │    └─ReLU (relu)                       [32, 512, 28, 28]    [32, 512, 28, 28]    --                   --\n",
       "│    │    └─Conv2d (conv)                     [32, 512, 28, 28]    [32, 256, 28, 28]    131,072              True\n",
       "│    │    └─AvgPool2d (pool)                  [32, 256, 28, 28]    [32, 256, 14, 14]    --                   --\n",
       "│    └─_DenseBlock (denseblock3)              [32, 256, 14, 14]    [32, 1024, 14, 14]   --                   True\n",
       "│    │    └─_DenseLayer (denselayer1)         [32, 256, 14, 14]    [32, 32, 14, 14]     70,400               True\n",
       "│    │    └─_DenseLayer (denselayer2)         [32, 256, 14, 14]    [32, 32, 14, 14]     74,560               True\n",
       "│    │    └─_DenseLayer (denselayer3)         [32, 256, 14, 14]    [32, 32, 14, 14]     78,720               True\n",
       "│    │    └─_DenseLayer (denselayer4)         [32, 256, 14, 14]    [32, 32, 14, 14]     82,880               True\n",
       "│    │    └─_DenseLayer (denselayer5)         [32, 256, 14, 14]    [32, 32, 14, 14]     87,040               True\n",
       "│    │    └─_DenseLayer (denselayer6)         [32, 256, 14, 14]    [32, 32, 14, 14]     91,200               True\n",
       "│    │    └─_DenseLayer (denselayer7)         [32, 256, 14, 14]    [32, 32, 14, 14]     95,360               True\n",
       "│    │    └─_DenseLayer (denselayer8)         [32, 256, 14, 14]    [32, 32, 14, 14]     99,520               True\n",
       "│    │    └─_DenseLayer (denselayer9)         [32, 256, 14, 14]    [32, 32, 14, 14]     103,680              True\n",
       "│    │    └─_DenseLayer (denselayer10)        [32, 256, 14, 14]    [32, 32, 14, 14]     107,840              True\n",
       "│    │    └─_DenseLayer (denselayer11)        [32, 256, 14, 14]    [32, 32, 14, 14]     112,000              True\n",
       "│    │    └─_DenseLayer (denselayer12)        [32, 256, 14, 14]    [32, 32, 14, 14]     116,160              True\n",
       "│    │    └─_DenseLayer (denselayer13)        [32, 256, 14, 14]    [32, 32, 14, 14]     120,320              True\n",
       "│    │    └─_DenseLayer (denselayer14)        [32, 256, 14, 14]    [32, 32, 14, 14]     124,480              True\n",
       "│    │    └─_DenseLayer (denselayer15)        [32, 256, 14, 14]    [32, 32, 14, 14]     128,640              True\n",
       "│    │    └─_DenseLayer (denselayer16)        [32, 256, 14, 14]    [32, 32, 14, 14]     132,800              True\n",
       "│    │    └─_DenseLayer (denselayer17)        [32, 256, 14, 14]    [32, 32, 14, 14]     136,960              True\n",
       "│    │    └─_DenseLayer (denselayer18)        [32, 256, 14, 14]    [32, 32, 14, 14]     141,120              True\n",
       "│    │    └─_DenseLayer (denselayer19)        [32, 256, 14, 14]    [32, 32, 14, 14]     145,280              True\n",
       "│    │    └─_DenseLayer (denselayer20)        [32, 256, 14, 14]    [32, 32, 14, 14]     149,440              True\n",
       "│    │    └─_DenseLayer (denselayer21)        [32, 256, 14, 14]    [32, 32, 14, 14]     153,600              True\n",
       "│    │    └─_DenseLayer (denselayer22)        [32, 256, 14, 14]    [32, 32, 14, 14]     157,760              True\n",
       "│    │    └─_DenseLayer (denselayer23)        [32, 256, 14, 14]    [32, 32, 14, 14]     161,920              True\n",
       "│    │    └─_DenseLayer (denselayer24)        [32, 256, 14, 14]    [32, 32, 14, 14]     166,080              True\n",
       "│    └─_Transition (transition3)              [32, 1024, 14, 14]   [32, 512, 7, 7]      --                   True\n",
       "│    │    └─BatchNorm2d (norm)                [32, 1024, 14, 14]   [32, 1024, 14, 14]   2,048                True\n",
       "│    │    └─ReLU (relu)                       [32, 1024, 14, 14]   [32, 1024, 14, 14]   --                   --\n",
       "│    │    └─Conv2d (conv)                     [32, 1024, 14, 14]   [32, 512, 14, 14]    524,288              True\n",
       "│    │    └─AvgPool2d (pool)                  [32, 512, 14, 14]    [32, 512, 7, 7]      --                   --\n",
       "│    └─_DenseBlock (denseblock4)              [32, 512, 7, 7]      [32, 1024, 7, 7]     --                   True\n",
       "│    │    └─_DenseLayer (denselayer1)         [32, 512, 7, 7]      [32, 32, 7, 7]       103,680              True\n",
       "│    │    └─_DenseLayer (denselayer2)         [32, 512, 7, 7]      [32, 32, 7, 7]       107,840              True\n",
       "│    │    └─_DenseLayer (denselayer3)         [32, 512, 7, 7]      [32, 32, 7, 7]       112,000              True\n",
       "│    │    └─_DenseLayer (denselayer4)         [32, 512, 7, 7]      [32, 32, 7, 7]       116,160              True\n",
       "│    │    └─_DenseLayer (denselayer5)         [32, 512, 7, 7]      [32, 32, 7, 7]       120,320              True\n",
       "│    │    └─_DenseLayer (denselayer6)         [32, 512, 7, 7]      [32, 32, 7, 7]       124,480              True\n",
       "│    │    └─_DenseLayer (denselayer7)         [32, 512, 7, 7]      [32, 32, 7, 7]       128,640              True\n",
       "│    │    └─_DenseLayer (denselayer8)         [32, 512, 7, 7]      [32, 32, 7, 7]       132,800              True\n",
       "│    │    └─_DenseLayer (denselayer9)         [32, 512, 7, 7]      [32, 32, 7, 7]       136,960              True\n",
       "│    │    └─_DenseLayer (denselayer10)        [32, 512, 7, 7]      [32, 32, 7, 7]       141,120              True\n",
       "│    │    └─_DenseLayer (denselayer11)        [32, 512, 7, 7]      [32, 32, 7, 7]       145,280              True\n",
       "│    │    └─_DenseLayer (denselayer12)        [32, 512, 7, 7]      [32, 32, 7, 7]       149,440              True\n",
       "│    │    └─_DenseLayer (denselayer13)        [32, 512, 7, 7]      [32, 32, 7, 7]       153,600              True\n",
       "│    │    └─_DenseLayer (denselayer14)        [32, 512, 7, 7]      [32, 32, 7, 7]       157,760              True\n",
       "│    │    └─_DenseLayer (denselayer15)        [32, 512, 7, 7]      [32, 32, 7, 7]       161,920              True\n",
       "│    │    └─_DenseLayer (denselayer16)        [32, 512, 7, 7]      [32, 32, 7, 7]       166,080              True\n",
       "│    └─BatchNorm2d (norm5)                    [32, 1024, 7, 7]     [32, 1024, 7, 7]     2,048                True\n",
       "├─Linear (classifier)                         [32, 1024]           [32, 5]              5,125                True\n",
       "=============================================================================================================================\n",
       "Total params: 6,958,981\n",
       "Trainable params: 6,958,981\n",
       "Non-trainable params: 0\n",
       "Total mult-adds (Units.GIGABYTES): 90.66\n",
       "=============================================================================================================================\n",
       "Input size (MB): 19.27\n",
       "Forward/backward pass size (MB): 5777.07\n",
       "Params size (MB): 27.84\n",
       "Estimated Total Size (MB): 5824.17\n",
       "============================================================================================================================="
      ]
     },
     "execution_count": 8,
     "metadata": {},
     "output_type": "execute_result"
    }
   ],
   "source": [
    "crop_size = 224\n",
    "\n",
    "# Print a summary using torchinfo (uncomment for actual output)\n",
    "torch.manual_seed(33)\n",
    "summary(model=model, \n",
    "        input_size=(32, 3, crop_size, crop_size), # make sure this is \"input_size\", not \"input_shape\"\n",
    "        col_names=[\"input_size\", \"output_size\", \"num_params\", \"trainable\"],\n",
    "        col_width=20,\n",
    "        row_settings=[\"var_names\"]\n",
    ") "
   ]
  },
  {
   "cell_type": "code",
   "execution_count": null,
   "metadata": {},
   "outputs": [],
   "source": []
  }
 ],
 "metadata": {
  "kernelspec": {
   "display_name": "Python 3",
   "language": "python",
   "name": "python3"
  },
  "language_info": {
   "codemirror_mode": {
    "name": "ipython",
    "version": 3
   },
   "file_extension": ".py",
   "mimetype": "text/x-python",
   "name": "python",
   "nbconvert_exporter": "python",
   "pygments_lexer": "ipython3",
   "version": "3.11.9"
  }
 },
 "nbformat": 4,
 "nbformat_minor": 2
}
